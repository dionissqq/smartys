{
 "cells": [
  {
   "cell_type": "code",
   "execution_count": 11,
   "id": "f1c82982",
   "metadata": {},
   "outputs": [],
   "source": [
    "import pandas as pd\n",
    "import numpy as np"
   ]
  },
  {
   "cell_type": "code",
   "execution_count": 76,
   "id": "9a4d77f0",
   "metadata": {},
   "outputs": [
    {
     "data": {
      "text/html": [
       "<div>\n",
       "<style scoped>\n",
       "    .dataframe tbody tr th:only-of-type {\n",
       "        vertical-align: middle;\n",
       "    }\n",
       "\n",
       "    .dataframe tbody tr th {\n",
       "        vertical-align: top;\n",
       "    }\n",
       "\n",
       "    .dataframe thead th {\n",
       "        text-align: right;\n",
       "    }\n",
       "</style>\n",
       "<table border=\"1\" class=\"dataframe\">\n",
       "  <thead>\n",
       "    <tr style=\"text-align: right;\">\n",
       "      <th></th>\n",
       "      <th>embedding_x</th>\n",
       "      <th>embedding_y</th>\n",
       "      <th>equal</th>\n",
       "    </tr>\n",
       "  </thead>\n",
       "  <tbody>\n",
       "    <tr>\n",
       "      <th>0</th>\n",
       "      <td>0.35198048,0.23884374,0.20589112,0.033522803,0...</td>\n",
       "      <td>0.124149986,0.14133812,0.16054663,0.38359353,0...</td>\n",
       "      <td>1</td>\n",
       "    </tr>\n",
       "    <tr>\n",
       "      <th>1</th>\n",
       "      <td>0.3492841,-0.18005244,0.46332806,-0.2122336,0....</td>\n",
       "      <td>-0.7460901,-0.21427503,-0.14653064,-0.22343078...</td>\n",
       "      <td>0</td>\n",
       "    </tr>\n",
       "    <tr>\n",
       "      <th>2</th>\n",
       "      <td>0.5642844,-0.08399645,-0.018092873,0.18461637,...</td>\n",
       "      <td>-0.30552676,0.10498648,0.40437204,0.25560898,-...</td>\n",
       "      <td>0</td>\n",
       "    </tr>\n",
       "    <tr>\n",
       "      <th>3</th>\n",
       "      <td>0.36132073,-0.20658037,0.4909494,0.12876663,0....</td>\n",
       "      <td>0.25936005,-0.15755327,0.4929783,-0.11315008,0...</td>\n",
       "      <td>1</td>\n",
       "    </tr>\n",
       "    <tr>\n",
       "      <th>4</th>\n",
       "      <td>-0.039740197,-0.11732757,-0.07907649,0.1649697...</td>\n",
       "      <td>0.26061502,-0.31516105,-0.04165541,0.16747917,...</td>\n",
       "      <td>1</td>\n",
       "    </tr>\n",
       "  </tbody>\n",
       "</table>\n",
       "</div>"
      ],
      "text/plain": [
       "                                         embedding_x  \\\n",
       "0  0.35198048,0.23884374,0.20589112,0.033522803,0...   \n",
       "1  0.3492841,-0.18005244,0.46332806,-0.2122336,0....   \n",
       "2  0.5642844,-0.08399645,-0.018092873,0.18461637,...   \n",
       "3  0.36132073,-0.20658037,0.4909494,0.12876663,0....   \n",
       "4  -0.039740197,-0.11732757,-0.07907649,0.1649697...   \n",
       "\n",
       "                                         embedding_y  equal  \n",
       "0  0.124149986,0.14133812,0.16054663,0.38359353,0...      1  \n",
       "1  -0.7460901,-0.21427503,-0.14653064,-0.22343078...      0  \n",
       "2  -0.30552676,0.10498648,0.40437204,0.25560898,-...      0  \n",
       "3  0.25936005,-0.15755327,0.4929783,-0.11315008,0...      1  \n",
       "4  0.26061502,-0.31516105,-0.04165541,0.16747917,...      1  "
      ]
     },
     "execution_count": 76,
     "metadata": {},
     "output_type": "execute_result"
    }
   ],
   "source": [
    "train = pd.read_csv('train.tsv', sep='\\t')\n",
    "test = pd.read_csv('test.tsv', sep='\\t')\n",
    "\n",
    "train.head()"
   ]
  },
  {
   "cell_type": "code",
   "execution_count": 95,
   "id": "2927394f",
   "metadata": {},
   "outputs": [
    {
     "data": {
      "text/plain": [
       "1    7837\n",
       "0    7748\n",
       "Name: equal, dtype: int64"
      ]
     },
     "execution_count": 95,
     "metadata": {},
     "output_type": "execute_result"
    }
   ],
   "source": [
    "train['equal'].value_counts()"
   ]
  },
  {
   "cell_type": "markdown",
   "id": "87037374",
   "metadata": {},
   "source": [
    "Here we can that dataset is balanced, so we will use accuracy metric for evaluating threshold performance  "
   ]
  },
  {
   "cell_type": "code",
   "execution_count": 77,
   "id": "5116846b",
   "metadata": {},
   "outputs": [],
   "source": [
    "# cast embeddings from strings to np.arrays\n",
    "train['embedding_x'] = train['embedding_x'].apply(lambda x: np.fromstring(x, dtype=float, sep=','))\n",
    "train['embedding_y'] = train['embedding_y'].apply(lambda x: np.fromstring(x, dtype=float, sep=','))\n",
    "\n",
    "test['embedding_x'] = test['embedding_x'].apply(lambda x: np.fromstring(x, dtype=float, sep=','))\n",
    "test['embedding_y'] = test['embedding_y'].apply(lambda x: np.fromstring(x, dtype=float, sep=','))"
   ]
  },
  {
   "cell_type": "code",
   "execution_count": 78,
   "id": "ba8c4e5d",
   "metadata": {},
   "outputs": [
    {
     "data": {
      "text/html": [
       "<div>\n",
       "<style scoped>\n",
       "    .dataframe tbody tr th:only-of-type {\n",
       "        vertical-align: middle;\n",
       "    }\n",
       "\n",
       "    .dataframe tbody tr th {\n",
       "        vertical-align: top;\n",
       "    }\n",
       "\n",
       "    .dataframe thead th {\n",
       "        text-align: right;\n",
       "    }\n",
       "</style>\n",
       "<table border=\"1\" class=\"dataframe\">\n",
       "  <thead>\n",
       "    <tr style=\"text-align: right;\">\n",
       "      <th></th>\n",
       "      <th>embedding_x</th>\n",
       "      <th>embedding_y</th>\n",
       "      <th>equal</th>\n",
       "    </tr>\n",
       "  </thead>\n",
       "  <tbody>\n",
       "    <tr>\n",
       "      <th>0</th>\n",
       "      <td>[0.35198048, 0.23884374, 0.20589112, 0.0335228...</td>\n",
       "      <td>[0.124149986, 0.14133812, 0.16054663, 0.383593...</td>\n",
       "      <td>1</td>\n",
       "    </tr>\n",
       "    <tr>\n",
       "      <th>1</th>\n",
       "      <td>[0.3492841, -0.18005244, 0.46332806, -0.212233...</td>\n",
       "      <td>[-0.7460901, -0.21427503, -0.14653064, -0.2234...</td>\n",
       "      <td>0</td>\n",
       "    </tr>\n",
       "    <tr>\n",
       "      <th>2</th>\n",
       "      <td>[0.5642844, -0.08399645, -0.018092873, 0.18461...</td>\n",
       "      <td>[-0.30552676, 0.10498648, 0.40437204, 0.255608...</td>\n",
       "      <td>0</td>\n",
       "    </tr>\n",
       "    <tr>\n",
       "      <th>3</th>\n",
       "      <td>[0.36132073, -0.20658037, 0.4909494, 0.1287666...</td>\n",
       "      <td>[0.25936005, -0.15755327, 0.4929783, -0.113150...</td>\n",
       "      <td>1</td>\n",
       "    </tr>\n",
       "    <tr>\n",
       "      <th>4</th>\n",
       "      <td>[-0.039740197, -0.11732757, -0.07907649, 0.164...</td>\n",
       "      <td>[0.26061502, -0.31516105, -0.04165541, 0.16747...</td>\n",
       "      <td>1</td>\n",
       "    </tr>\n",
       "  </tbody>\n",
       "</table>\n",
       "</div>"
      ],
      "text/plain": [
       "                                         embedding_x  \\\n",
       "0  [0.35198048, 0.23884374, 0.20589112, 0.0335228...   \n",
       "1  [0.3492841, -0.18005244, 0.46332806, -0.212233...   \n",
       "2  [0.5642844, -0.08399645, -0.018092873, 0.18461...   \n",
       "3  [0.36132073, -0.20658037, 0.4909494, 0.1287666...   \n",
       "4  [-0.039740197, -0.11732757, -0.07907649, 0.164...   \n",
       "\n",
       "                                         embedding_y  equal  \n",
       "0  [0.124149986, 0.14133812, 0.16054663, 0.383593...      1  \n",
       "1  [-0.7460901, -0.21427503, -0.14653064, -0.2234...      0  \n",
       "2  [-0.30552676, 0.10498648, 0.40437204, 0.255608...      0  \n",
       "3  [0.25936005, -0.15755327, 0.4929783, -0.113150...      1  \n",
       "4  [0.26061502, -0.31516105, -0.04165541, 0.16747...      1  "
      ]
     },
     "execution_count": 78,
     "metadata": {},
     "output_type": "execute_result"
    }
   ],
   "source": [
    "train.head()"
   ]
  },
  {
   "cell_type": "code",
   "execution_count": 79,
   "id": "9ab4f6b3",
   "metadata": {},
   "outputs": [],
   "source": [
    "# calculate Euclidean distance and cosine similarity\n",
    "train['lin_dist'] = train.apply(lambda row: np.linalg.norm(row.embedding_x - row.embedding_y), axis=1)\n",
    "train['cos_sim'] = train.apply(lambda row: np.dot(row.embedding_x, row.embedding_y)/(np.linalg.norm(row.embedding_x)*np.linalg.norm(row.embedding_y)), axis=1)\n",
    "\n",
    "test['lin_dist'] = test.apply(lambda row: np.linalg.norm(row.embedding_x - row.embedding_y), axis=1)\n",
    "test['cos_sim'] = test.apply(lambda row: np.dot(row.embedding_x, row.embedding_y)/(np.linalg.norm(row.embedding_x)*np.linalg.norm(row.embedding_y)), axis=1)"
   ]
  },
  {
   "cell_type": "code",
   "execution_count": 80,
   "id": "d1a57909",
   "metadata": {},
   "outputs": [
    {
     "data": {
      "text/html": [
       "<div>\n",
       "<style scoped>\n",
       "    .dataframe tbody tr th:only-of-type {\n",
       "        vertical-align: middle;\n",
       "    }\n",
       "\n",
       "    .dataframe tbody tr th {\n",
       "        vertical-align: top;\n",
       "    }\n",
       "\n",
       "    .dataframe thead th {\n",
       "        text-align: right;\n",
       "    }\n",
       "</style>\n",
       "<table border=\"1\" class=\"dataframe\">\n",
       "  <thead>\n",
       "    <tr style=\"text-align: right;\">\n",
       "      <th></th>\n",
       "      <th>embedding_x</th>\n",
       "      <th>embedding_y</th>\n",
       "      <th>equal</th>\n",
       "      <th>lin_dist</th>\n",
       "      <th>cos_sim</th>\n",
       "    </tr>\n",
       "  </thead>\n",
       "  <tbody>\n",
       "    <tr>\n",
       "      <th>0</th>\n",
       "      <td>[0.35198048, 0.23884374, 0.20589112, 0.0335228...</td>\n",
       "      <td>[0.124149986, 0.14133812, 0.16054663, 0.383593...</td>\n",
       "      <td>1</td>\n",
       "      <td>0.941026</td>\n",
       "      <td>0.557235</td>\n",
       "    </tr>\n",
       "    <tr>\n",
       "      <th>1</th>\n",
       "      <td>[0.3492841, -0.18005244, 0.46332806, -0.212233...</td>\n",
       "      <td>[-0.7460901, -0.21427503, -0.14653064, -0.2234...</td>\n",
       "      <td>0</td>\n",
       "      <td>1.629176</td>\n",
       "      <td>-0.327108</td>\n",
       "    </tr>\n",
       "    <tr>\n",
       "      <th>2</th>\n",
       "      <td>[0.5642844, -0.08399645, -0.018092873, 0.18461...</td>\n",
       "      <td>[-0.30552676, 0.10498648, 0.40437204, 0.255608...</td>\n",
       "      <td>0</td>\n",
       "      <td>1.598868</td>\n",
       "      <td>-0.278190</td>\n",
       "    </tr>\n",
       "    <tr>\n",
       "      <th>3</th>\n",
       "      <td>[0.36132073, -0.20658037, 0.4909494, 0.1287666...</td>\n",
       "      <td>[0.25936005, -0.15755327, 0.4929783, -0.113150...</td>\n",
       "      <td>1</td>\n",
       "      <td>0.674878</td>\n",
       "      <td>0.772270</td>\n",
       "    </tr>\n",
       "    <tr>\n",
       "      <th>4</th>\n",
       "      <td>[-0.039740197, -0.11732757, -0.07907649, 0.164...</td>\n",
       "      <td>[0.26061502, -0.31516105, -0.04165541, 0.16747...</td>\n",
       "      <td>1</td>\n",
       "      <td>1.053113</td>\n",
       "      <td>0.445477</td>\n",
       "    </tr>\n",
       "  </tbody>\n",
       "</table>\n",
       "</div>"
      ],
      "text/plain": [
       "                                         embedding_x  \\\n",
       "0  [0.35198048, 0.23884374, 0.20589112, 0.0335228...   \n",
       "1  [0.3492841, -0.18005244, 0.46332806, -0.212233...   \n",
       "2  [0.5642844, -0.08399645, -0.018092873, 0.18461...   \n",
       "3  [0.36132073, -0.20658037, 0.4909494, 0.1287666...   \n",
       "4  [-0.039740197, -0.11732757, -0.07907649, 0.164...   \n",
       "\n",
       "                                         embedding_y  equal  lin_dist  \\\n",
       "0  [0.124149986, 0.14133812, 0.16054663, 0.383593...      1  0.941026   \n",
       "1  [-0.7460901, -0.21427503, -0.14653064, -0.2234...      0  1.629176   \n",
       "2  [-0.30552676, 0.10498648, 0.40437204, 0.255608...      0  1.598868   \n",
       "3  [0.25936005, -0.15755327, 0.4929783, -0.113150...      1  0.674878   \n",
       "4  [0.26061502, -0.31516105, -0.04165541, 0.16747...      1  1.053113   \n",
       "\n",
       "    cos_sim  \n",
       "0  0.557235  \n",
       "1 -0.327108  \n",
       "2 -0.278190  \n",
       "3  0.772270  \n",
       "4  0.445477  "
      ]
     },
     "execution_count": 80,
     "metadata": {},
     "output_type": "execute_result"
    }
   ],
   "source": [
    "train.head()"
   ]
  },
  {
   "cell_type": "markdown",
   "id": "2e192f63",
   "metadata": {},
   "source": [
    "Here we got two ways for embeddings comparison, though we will proceed will cosine similarity.\n",
    "To estimate the best threshhold we will choose the one that maximizes accuracy(minimizes -accuracy) for train dataset."
   ]
  },
  {
   "cell_type": "code",
   "execution_count": 88,
   "id": "d120e311",
   "metadata": {},
   "outputs": [],
   "source": [
    "import scipy\n",
    "from sklearn.metrics import accuracy_score\n",
    "\n",
    "# function that maps threshold to -accuracy\n",
    "def thr_to_accuracy(thr, Y_test, predictions):\n",
    "   return -accuracy_score(Y_test, np.array(predictions>thr, dtype=int))"
   ]
  },
  {
   "cell_type": "code",
   "execution_count": 91,
   "id": "c1d9adf9",
   "metadata": {},
   "outputs": [
    {
     "name": "stdout",
     "output_type": "stream",
     "text": [
      "Optimization terminated successfully.\n",
      "         Current function value: -0.883029\n",
      "         Iterations: 14\n",
      "         Function evaluations: 32\n"
     ]
    },
    {
     "data": {
      "text/plain": [
       "array([0.27460937])"
      ]
     },
     "execution_count": 91,
     "metadata": {},
     "output_type": "execute_result"
    }
   ],
   "source": [
    "# choosing threshold that maximizes accuracy\n",
    "best_thr = scipy.optimize.fmin(thr_to_accuracy, args=(train['equal'].values, train['cos_sim'].values), x0=0.5)\n",
    "best_thr"
   ]
  },
  {
   "cell_type": "code",
   "execution_count": 99,
   "id": "13b9e003",
   "metadata": {},
   "outputs": [
    {
     "data": {
      "text/plain": [
       "0.8927655207798871"
      ]
     },
     "execution_count": 99,
     "metadata": {},
     "output_type": "execute_result"
    }
   ],
   "source": [
    "# checking threshold for test dataset\n",
    "test_acc = accuracy_score(test['equal'], np.array(test['cos_sim'].values>best_thr, dtype=int))\n",
    "\n",
    "test_acc"
   ]
  },
  {
   "cell_type": "code",
   "execution_count": 101,
   "id": "e5ddda1d",
   "metadata": {},
   "outputs": [
    {
     "data": {
      "text/plain": [
       "0.8928754484879547"
      ]
     },
     "execution_count": 101,
     "metadata": {},
     "output_type": "execute_result"
    }
   ],
   "source": [
    "from sklearn.metrics import f1_score\n",
    "\n",
    "# lets look at f1 score as well to ensure that result is valid\n",
    "test_f1 = f1_score(test['equal'], np.array(test['cos_sim'].values>best_thr, dtype=int))\n",
    "\n",
    "test_f1"
   ]
  }
 ],
 "metadata": {
  "kernelspec": {
   "display_name": "Python 3 (ipykernel)",
   "language": "python",
   "name": "python3"
  },
  "language_info": {
   "codemirror_mode": {
    "name": "ipython",
    "version": 3
   },
   "file_extension": ".py",
   "mimetype": "text/x-python",
   "name": "python",
   "nbconvert_exporter": "python",
   "pygments_lexer": "ipython3",
   "version": "3.10.1"
  }
 },
 "nbformat": 4,
 "nbformat_minor": 5
}
